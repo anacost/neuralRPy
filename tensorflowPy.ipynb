{
 "cells": [
  {
   "cell_type": "code",
   "execution_count": 2,
   "metadata": {},
   "outputs": [
    {
     "name": "stderr",
     "output_type": "stream",
     "text": [
      "/home/anacos/anaconda3/envs/workshop2/lib/python3.6/site-packages/h5py/__init__.py:36: FutureWarning: Conversion of the second argument of issubdtype from `float` to `np.floating` is deprecated. In future, it will be treated as `np.float64 == np.dtype(float).type`.\n",
      "  from ._conv import register_converters as _register_converters\n"
     ]
    }
   ],
   "source": [
    "import tensorflow as tf\n",
    "import numpy as np\n",
    "import pandas as pd\n",
    "import math\n",
    "import matplotlib.pyplot\n",
    "from sklearn.model_selection import train_test_split\n",
    "import os\n",
    "#from sklearn import preprocessing\n",
    "\n",
    "import matplotlib.pyplot as plt"
   ]
  },
  {
   "cell_type": "markdown",
   "metadata": {},
   "source": [
    "Activation functions: sigmoid (logistic), relu, tanh (said to be a scaled sigmoid type function), threshold\n",
    "\n",
    "Sigmoid refers to S-shaped.\n",
    "\n",
    "In most cases, it has been found that the exact shape of the function\n",
    "has little effect on the ultimate power of the network, though it can\n",
    "have a significant impact on training speed. It must be kept in mind that sigmoid functions never reach\n",
    "their theoretical minimum or maximum. For example, neurons that\n",
    "use the logistic function should be considered fully activated at aroimd\n",
    "0.9, and turned off at about 0.1 or so. It is certainly reasonable to use\n",
    "the extremes of 0.0 and 1.0 as inputs to a network. It is futile, though,\n",
    "to attempt to train a network to achieve extreme values as its output. \\cite{Masters1999}"
   ]
  },
  {
   "cell_type": "code",
   "execution_count": 5,
   "metadata": {},
   "outputs": [
    {
     "data": {
      "image/png": "[encoded data removed]",
      "text/plain": [
       "<Figure size 432x288 with 1 Axes>"
      ]
     },
     "metadata": {
      "needs_background": "light"
     },
     "output_type": "display_data"
    }
   ],
   "source": [
    "def sigmoid(t):\n",
    "    '''logistic/sigmoid function'''\n",
    "    return [1 / (1 + math.exp(-10*t1)) for t1 in t]\n",
    "def relu(t):  #the most popular\n",
    "    '''rectified linear unit function'''\n",
    "    return [t1 if t1>0 else 0 for t1 in t]\n",
    "    \n",
    "def threshold(t):\n",
    "    '''threshold function'''\n",
    "    return [1 if t1>0 else 0 for t1 in t]\n",
    "\n",
    "   \n",
    "t = np.arange(-1,1,0.01).tolist()\n",
    "plt.plot(t, sigmoid(t), 'g-', label='sigmoid (logistic)') \n",
    "plt.plot(t, relu(t), 'r-', label='RELU (rectified linear unit function)/Perceptron function')\n",
    "plt.plot(t, np.tanh(t), 'b-', label='tanh')\n",
    "plt.plot(t, threshold(t), 'y-', label='threshold')\n",
    "plt.legend()\n",
    "plt.xlabel('t')\n",
    "plt.ylim([-1.1, 1.1])\n",
    "plt.title('Activation functions')\n",
    "plt.show()"
   ]
  },
  {
   "cell_type": "code",
   "execution_count": null,
   "metadata": {},
   "outputs": [],
   "source": []
  },
  {
   "cell_type": "code",
   "execution_count": 3,
   "metadata": {},
   "outputs": [
    {
     "data": {
      "text/plain": [
       "Index(['X', 'date', 'Rl_downwell', 'AT_mbar', 'Rs_downwell', 'rH', 'T_b_1477',\n",
       "       'D_g_1477', 'F_1_s_g_1477', 'Rnet'],\n",
       "      dtype='object')"
      ]
     },
     "execution_count": 3,
     "metadata": {},
     "output_type": "execute_result"
    }
   ],
   "source": [
    "df = pd.read_table('data/sensitivity_met_data.txt', sep=' ')\n",
    "df.columns"
   ]
  },
  {
   "cell_type": "code",
   "execution_count": null,
   "metadata": {},
   "outputs": [],
   "source": []
  },
  {
   "cell_type": "code",
   "execution_count": 4,
   "metadata": {},
   "outputs": [
    {
     "data": {
      "text/html": [
       "<div>\n",
       "<style scoped>\n",
       "    .dataframe tbody tr th:only-of-type {\n",
       "        vertical-align: middle;\n",
       "    }\n",
       "\n",
       "    .dataframe tbody tr th {\n",
       "        vertical-align: top;\n",
       "    }\n",
       "\n",
       "    .dataframe thead th {\n",
       "        text-align: right;\n",
       "    }\n",
       "</style>\n",
       "<table border=\"1\" class=\"dataframe\">\n",
       "  <thead>\n",
       "    <tr style=\"text-align: right;\">\n",
       "      <th></th>\n",
       "      <th>X</th>\n",
       "      <th>date</th>\n",
       "      <th>Rl_downwell</th>\n",
       "      <th>AT_mbar</th>\n",
       "      <th>Rs_downwell</th>\n",
       "      <th>rH</th>\n",
       "      <th>T_b_1477</th>\n",
       "      <th>D_g_1477</th>\n",
       "      <th>F_1_s_g_1477</th>\n",
       "      <th>Rnet</th>\n",
       "    </tr>\n",
       "  </thead>\n",
       "  <tbody>\n",
       "    <tr>\n",
       "      <th>0</th>\n",
       "      <td>14755</td>\n",
       "      <td>2017-08-03 00:00:00</td>\n",
       "      <td>324.126342</td>\n",
       "      <td>872.825505</td>\n",
       "      <td>-5.598344</td>\n",
       "      <td>81.314077</td>\n",
       "      <td>5.567235</td>\n",
       "      <td>111.774365</td>\n",
       "      <td>1.731078</td>\n",
       "      <td>-15.434300</td>\n",
       "    </tr>\n",
       "    <tr>\n",
       "      <th>1</th>\n",
       "      <td>14756</td>\n",
       "      <td>2017-08-03 00:30:00</td>\n",
       "      <td>326.260588</td>\n",
       "      <td>872.751661</td>\n",
       "      <td>-5.280981</td>\n",
       "      <td>81.292929</td>\n",
       "      <td>5.617802</td>\n",
       "      <td>115.684001</td>\n",
       "      <td>0.945166</td>\n",
       "      <td>-14.885011</td>\n",
       "    </tr>\n",
       "    <tr>\n",
       "      <th>2</th>\n",
       "      <td>14757</td>\n",
       "      <td>2017-08-03 01:00:00</td>\n",
       "      <td>328.126291</td>\n",
       "      <td>872.777577</td>\n",
       "      <td>-5.024196</td>\n",
       "      <td>81.948296</td>\n",
       "      <td>5.574907</td>\n",
       "      <td>132.164967</td>\n",
       "      <td>0.955019</td>\n",
       "      <td>-13.216545</td>\n",
       "    </tr>\n",
       "    <tr>\n",
       "      <th>3</th>\n",
       "      <td>14758</td>\n",
       "      <td>2017-08-03 01:30:00</td>\n",
       "      <td>329.331054</td>\n",
       "      <td>872.647744</td>\n",
       "      <td>-5.299757</td>\n",
       "      <td>82.240550</td>\n",
       "      <td>5.694478</td>\n",
       "      <td>125.869389</td>\n",
       "      <td>1.473831</td>\n",
       "      <td>-11.503595</td>\n",
       "    </tr>\n",
       "    <tr>\n",
       "      <th>4</th>\n",
       "      <td>14759</td>\n",
       "      <td>2017-08-03 02:00:00</td>\n",
       "      <td>326.201118</td>\n",
       "      <td>872.422133</td>\n",
       "      <td>-5.781706</td>\n",
       "      <td>80.608641</td>\n",
       "      <td>5.774785</td>\n",
       "      <td>111.553343</td>\n",
       "      <td>1.927735</td>\n",
       "      <td>-14.075733</td>\n",
       "    </tr>\n",
       "  </tbody>\n",
       "</table>\n",
       "</div>"
      ],
      "text/plain": [
       "       X                 date  Rl_downwell     AT_mbar  Rs_downwell  \\\n",
       "0  14755  2017-08-03 00:00:00   324.126342  872.825505    -5.598344   \n",
       "1  14756  2017-08-03 00:30:00   326.260588  872.751661    -5.280981   \n",
       "2  14757  2017-08-03 01:00:00   328.126291  872.777577    -5.024196   \n",
       "3  14758  2017-08-03 01:30:00   329.331054  872.647744    -5.299757   \n",
       "4  14759  2017-08-03 02:00:00   326.201118  872.422133    -5.781706   \n",
       "\n",
       "          rH  T_b_1477    D_g_1477  F_1_s_g_1477       Rnet  \n",
       "0  81.314077  5.567235  111.774365      1.731078 -15.434300  \n",
       "1  81.292929  5.617802  115.684001      0.945166 -14.885011  \n",
       "2  81.948296  5.574907  132.164967      0.955019 -13.216545  \n",
       "3  82.240550  5.694478  125.869389      1.473831 -11.503595  \n",
       "4  80.608641  5.774785  111.553343      1.927735 -14.075733  "
      ]
     },
     "execution_count": 4,
     "metadata": {},
     "output_type": "execute_result"
    }
   ],
   "source": [
    "df.head()"
   ]
  },
  {
   "cell_type": "code",
   "execution_count": null,
   "metadata": {},
   "outputs": [],
   "source": []
  },
  {
   "cell_type": "code",
   "execution_count": 5,
   "metadata": {},
   "outputs": [],
   "source": [
    "df1 = df.iloc[:, list(range(2,10))] # + [-2]]\n",
    "df1cl = df1.dropna(axis=0) #cleaning from NA"
   ]
  },
  {
   "cell_type": "code",
   "execution_count": 6,
   "metadata": {},
   "outputs": [],
   "source": [
    "target = df1cl.iloc[:,[-1]]\n",
    "X = df1cl.iloc[:,list(range(7))]\n",
    "\n",
    "X_train, X_test, y_train, y_test =train_test_split(X, target, test_size=0.2)"
   ]
  },
  {
   "cell_type": "code",
   "execution_count": 7,
   "metadata": {},
   "outputs": [],
   "source": [
    "#Normalising data between 0 and 1:\n",
    "def scale01(X1): \n",
    "    '''scaling between 0 and 1 the columns of a pandas.dataframe'''\n",
    "    return (X1-X1.min(axis=0))/(X1.max(axis=0)-X1.min(axis=0))\n",
    "X_train_norm01 = scale01(X_train)\n",
    "X_test_norm01 = scale01(X_test)\n",
    "y_train_norm01 = scale01(y_train)\n",
    "y_test_norm01 = scale01(y_test)"
   ]
  },
  {
   "cell_type": "code",
   "execution_count": 8,
   "metadata": {},
   "outputs": [
    {
     "name": "stdout",
     "output_type": "stream",
     "text": [
      "(1420, 7)\n"
     ]
    },
    {
     "data": {
      "text/html": [
       "<div>\n",
       "<style scoped>\n",
       "    .dataframe tbody tr th:only-of-type {\n",
       "        vertical-align: middle;\n",
       "    }\n",
       "\n",
       "    .dataframe tbody tr th {\n",
       "        vertical-align: top;\n",
       "    }\n",
       "\n",
       "    .dataframe thead th {\n",
       "        text-align: right;\n",
       "    }\n",
       "</style>\n",
       "<table border=\"1\" class=\"dataframe\">\n",
       "  <thead>\n",
       "    <tr style=\"text-align: right;\">\n",
       "      <th></th>\n",
       "      <th>Rl_downwell</th>\n",
       "      <th>AT_mbar</th>\n",
       "      <th>Rs_downwell</th>\n",
       "      <th>rH</th>\n",
       "      <th>T_b_1477</th>\n",
       "      <th>D_g_1477</th>\n",
       "      <th>F_1_s_g_1477</th>\n",
       "    </tr>\n",
       "  </thead>\n",
       "  <tbody>\n",
       "    <tr>\n",
       "      <th>97</th>\n",
       "      <td>0.890099</td>\n",
       "      <td>0.229435</td>\n",
       "      <td>0.002699</td>\n",
       "      <td>0.921428</td>\n",
       "      <td>0.615022</td>\n",
       "      <td>0.895288</td>\n",
       "      <td>0.317709</td>\n",
       "    </tr>\n",
       "    <tr>\n",
       "      <th>1586</th>\n",
       "      <td>0.779463</td>\n",
       "      <td>0.880973</td>\n",
       "      <td>0.004051</td>\n",
       "      <td>0.930040</td>\n",
       "      <td>0.373930</td>\n",
       "      <td>0.273265</td>\n",
       "      <td>0.578497</td>\n",
       "    </tr>\n",
       "    <tr>\n",
       "      <th>35</th>\n",
       "      <td>0.839237</td>\n",
       "      <td>0.292841</td>\n",
       "      <td>0.054703</td>\n",
       "      <td>0.814131</td>\n",
       "      <td>0.597785</td>\n",
       "      <td>0.269745</td>\n",
       "      <td>0.668638</td>\n",
       "    </tr>\n",
       "    <tr>\n",
       "      <th>1041</th>\n",
       "      <td>0.810464</td>\n",
       "      <td>0.574326</td>\n",
       "      <td>0.173112</td>\n",
       "      <td>0.497908</td>\n",
       "      <td>0.781214</td>\n",
       "      <td>0.416292</td>\n",
       "      <td>0.315106</td>\n",
       "    </tr>\n",
       "    <tr>\n",
       "      <th>1113</th>\n",
       "      <td>0.039861</td>\n",
       "      <td>0.751851</td>\n",
       "      <td>0.010639</td>\n",
       "      <td>0.876281</td>\n",
       "      <td>0.232895</td>\n",
       "      <td>0.214949</td>\n",
       "      <td>0.073448</td>\n",
       "    </tr>\n",
       "  </tbody>\n",
       "</table>\n",
       "</div>"
      ],
      "text/plain": [
       "      Rl_downwell   AT_mbar  Rs_downwell        rH  T_b_1477  D_g_1477  \\\n",
       "97       0.890099  0.229435     0.002699  0.921428  0.615022  0.895288   \n",
       "1586     0.779463  0.880973     0.004051  0.930040  0.373930  0.273265   \n",
       "35       0.839237  0.292841     0.054703  0.814131  0.597785  0.269745   \n",
       "1041     0.810464  0.574326     0.173112  0.497908  0.781214  0.416292   \n",
       "1113     0.039861  0.751851     0.010639  0.876281  0.232895  0.214949   \n",
       "\n",
       "      F_1_s_g_1477  \n",
       "97        0.317709  \n",
       "1586      0.578497  \n",
       "35        0.668638  \n",
       "1041      0.315106  \n",
       "1113      0.073448  "
      ]
     },
     "execution_count": 8,
     "metadata": {},
     "output_type": "execute_result"
    }
   ],
   "source": [
    "print(X_train.shape)#X_train- min(X_train)\n",
    "X_train_norm01.head()"
   ]
  },
  {
   "cell_type": "markdown",
   "metadata": {},
   "source": [
    "model = tf.keras.Sequential()\n",
    "model.add(tf.keras.layers.Dense(units = 128,activation='relu', input_dim=X.shape[1]))\n",
    "#model.add(tf.keras.layers.Dropout(rate = 0.3))\n",
    "#model.add(tf.keras.layers.Dense(units = 64, activation='relu'))\n",
    "#model.add(tf.keras.layers.Dropout(rate = 0.3))\n",
    "#model.add(tf.keras.layers.Dense(units = 32, activation='relu'))\n",
    "model.add(tf.keras.layers.Dropout(rate = 0.3))\n",
    "model.add(tf.keras.layers.Dense(units = target.shape[1]))\n",
    "#'softmax' function which skizzes everything between 0 and 1\n",
    "#to avoid overfitting, use drop-out (pick a neuron and set it to zero)\n",
    "#adding a layer Dropout\n",
    "#Last layer has no activation, it will be a linear layer."
   ]
  },
  {
   "cell_type": "code",
   "execution_count": null,
   "metadata": {},
   "outputs": [],
   "source": []
  },
  {
   "cell_type": "code",
   "execution_count": 9,
   "metadata": {},
   "outputs": [],
   "source": [
    "sess = tf.Session()\n",
    "#Create a visualiser object \n",
    "writer = tf.summary.FileWriter(\"./Downloads\", sess.graph)\n",
    "\n",
    "if not os.path.exists('tensorboard'): os.makedirs('tensorboard')\n",
    "#We can now create a Tensorboard operation that will summarize a scalar value. The\n",
    "#scalar value that we will summarize is the slope estimate of the model:\n",
    "\n",
    "# Initialize Variables\n",
    "init = tf.global_variables_initializer()\n",
    "sess.run(init)"
   ]
  },
  {
   "cell_type": "code",
   "execution_count": 20,
   "metadata": {},
   "outputs": [
    {
     "data": {
      "text/plain": [
       "7"
      ]
     },
     "execution_count": 20,
     "metadata": {},
     "output_type": "execute_result"
    }
   ],
   "source": [
    "X.shape[1]"
   ]
  },
  {
   "cell_type": "code",
   "execution_count": 10,
   "metadata": {},
   "outputs": [],
   "source": [
    "def build_model():\n",
    "    modeln = tf.keras.Sequential()\n",
    "    modeln.add(tf.keras.layers.Dense(units =4,activation='sigmoid', input_dim=X.shape[1])) #units=128\n",
    "#model.add(tf.keras.layers.Dropout(rate = 0.3))\n",
    "#model.add(tf.keras.layers.Dense(units = 64, activation='relu'))\n",
    "#model.add(tf.keras.layers.Dropout(rate = 0.3))\n",
    "#model.add(tf.keras.layers.Dense(units = 32, activation='relu'))\n",
    "    modeln.add(tf.keras.layers.Dropout(rate = 0.3))\n",
    "    modeln.add(tf.keras.layers.Dense(units = target.shape[1], activation='sigmoid'))\n",
    "    optimizer = tf.train.RMSPropOptimizer(0.001)\n",
    "    \n",
    "    modeln.compile(optimizer= optimizer, loss= 'mse',metrics=['mae'])\n",
    "    return modeln\n",
    "# to avoid overfitting, use drop-out (pick a neuron and set it to zero)\n",
    "# adding a layer Dropout\n",
    "modeln1 = build_model()\n"
   ]
  },
  {
   "cell_type": "markdown",
   "metadata": {},
   "source": [
    "*loss* is \"binary_crossentropy\", \"categorical_crossentropy\", \"sparse_categorical_crossentropy\", \"mse\"\n",
    " *Crossentropy* is a quantity forom the field of Information Theory that measures the distance between probability distributions and your predictions.\n",
    " \n",
    " *binary_crossentropy* loss if you are facing a binary classification (two output classes) problem and the output of your network is a probability (you end your network with a single-unit layer with a *sigmoid* activation. The output of your network should be a scalar between 0 and 1, encoding a probability.\n",
    " \n",
    " *categorical_crossentropy* expects the label to follow a categorical encoding.\n",
    " \n",
    " *sparse_categorical_crossentropy* is used with integer labels. It is still matematically the same loss function as *categorical_crossentropy*.\n",
    " \n",
    " *mse* stands for *mean squared error*, the square ofthe difference between the predictions and the targets. This is widely used for *regression* problems.\n",
    " \n",
    "*optimizer*: \"rmsprop\", \"adam\", \n",
    "\n",
    "how many times you want it to learn from the data: *epochs*\n",
    "\n",
    "*batch_size*: how many examples "
   ]
  },
  {
   "cell_type": "markdown",
   "metadata": {},
   "source": [
    "### Classification \n",
    "If you are classifying data points among $N$ classes, your network should end with a dense layer of size $N$.\n",
    "In a single-label, multiclass classification problem, your network should end with a *softmax* activation so that it will output a probability distribution over the $N$ output classes.\n",
    "*Categorical crossentropy* is almost always the loss function you should use for such problems. It minimises the distance between the probability distribution output by the network and the true distribution of the targets.\n",
    "There are two ways to handle labels in multiclass classification:\n",
    "- Encoding the labels via categorical encoding (also known as one-hot encoding) and using *categorical_crossentropy* as a loss function.\n",
    "- Encoding the labels as integers and using the sparse_categorical_crossentropy loss function.\n",
    "\n",
    "If you need to classify data into a large number of categories, you should avoid creating information bottlenecks in your network due to intermediate layers that are too small.\n",
    "\n",
    "Metrics to use: *'accuracy'*."
   ]
  },
  {
   "cell_type": "markdown",
   "metadata": {},
   "source": [
    "### Regression\n",
    "If you want to predict a continuous value instead of a discrete label, then the problem is *regression*.\n",
    "A new metric during training is *mae*, which stands for *mean absolute error* and is the absolute value of the difference between the predictions and the targets.\n",
    "The concept of *accuracy* does not apply for regression. A common regression metric is *mean absolute error* ('mae').\n",
    "\n",
    "Regression uses different loss functions and different evaluation metrics than classification.\n",
    "*Mean squared error* (MSE) is loss function commonly used for regression.\n",
    "\n",
    "\n",
    "*optimizer* : 'sdg', 'rmsprop'\n",
    "'sdg' stands for Stochastic Gradient Descent and it an optimizer function which is suitable for linear regression tasks like in our case."
   ]
  },
  {
   "cell_type": "markdown",
   "metadata": {},
   "source": [
    "## Last layer\n",
    "| Problem type                            | Last-layer activation | Loss function |\n",
    "| :-------------------------------------- |:---------------------:| -----:|\n",
    "| Binary classification                   | *sigmoid*             | *binary_crossentropy*      |\n",
    "| Multiclass, single-label classification | *softmax*             | *categorical_crossentropy* |\n",
    "| Multiclass, multilabel classification   | *sigmoid*             | *binary_crossentropy*      |\n",
    "| Regression to arbitrary values          | None                  | *mse*                      |\n",
    "| Regression to values between 0 and 1    | *sigmoid*             | *mse* or *binary_crossentropy* |\n",
    "\n",
    "'softmax' function which skizzes everything between 0 and 1\n",
    "\n",
    "In the regression problem the network ends with a single unit and no activation.\n",
    "\n",
    "## Add dropout\n",
    "Dropout is one of the most effective and most commonly used regularization techniques for neural networks, developed by Hinton and his students at the University of Toronto. Dropout, applied to a layer, consists of randomly \"dropping out\" (i.e. set to zero) a number of output features of the layer during training. Let's say a given layer would normally have returned a vector $[0.2, 0.5, 1.3, 0.8, 1.1]$ for a given input sample during training; after applying dropout, this vector will have a few zero entries distributed at random, e.g. $[0, 0.5, 1.3, 0, 1.1]$. The \"dropout rate\" is the fraction of the features that are being zeroed-out; it is usually set between $0.2$ and $0.5$. At test time, no units are dropped out, and instead the layer's output values are scaled down by a factor equal to the dropout rate, so as to balance for the fact that more units are active than at training time."
   ]
  },
  {
   "cell_type": "markdown",
   "metadata": {},
   "source": [
    "## fit\n",
    "*epochs*: how many times you want it to learn from the data\n",
    "\n",
    "*batch_size*: the number of samples per batch, how many examples \n",
    "A small set of samples (typically between 8 and 128) that are processed simultaneously by the model. The number of samples is often a power of 2, to facilitate memory allocation on GPU. When training, a mini-batch is used to compute a single gradient-descent update applied to the weights of the model.\n",
    "\n",
    "*verbose = 0* trains the model in silent mode."
   ]
  },
  {
   "cell_type": "code",
   "execution_count": null,
   "metadata": {
    "scrolled": true
   },
   "outputs": [],
   "source": []
  },
  {
   "cell_type": "code",
   "execution_count": 11,
   "metadata": {},
   "outputs": [
    {
     "name": "stdout",
     "output_type": "stream",
     "text": [
      "_________________________________________________________________\n",
      "Layer (type)                 Output Shape              Param #   \n",
      "=================================================================\n",
      "dense (Dense)                (None, 4)                 32        \n",
      "_________________________________________________________________\n",
      "dropout (Dropout)            (None, 4)                 0         \n",
      "_________________________________________________________________\n",
      "dense_1 (Dense)              (None, 1)                 5         \n",
      "=================================================================\n",
      "Total params: 37\n",
      "Trainable params: 37\n",
      "Non-trainable params: 0\n",
      "_________________________________________________________________\n",
      "None\n",
      "\n",
      "....................................................................................................loss:  0.004213223748997798 \n",
      " mae:  0.035289170178519166\n"
     ]
    }
   ],
   "source": [
    "print(modeln1.summary())\n",
    "# Display training progress by printing a single dot for each completed epoch\n",
    "class PrintDot(tf.keras.callbacks.Callback):\n",
    "    def on_epoch_end(self, epoch, logs):\n",
    "        if epoch % 100 == 0: print('')\n",
    "        print('.', end='')\n",
    "\n",
    "EPOCHS = 100\n",
    "\n",
    "# Store training stats\n",
    "#history = model.fit(train_data, train_labels, epochs=EPOCHS,\n",
    "#                    validation_split=0.2, verbose=0,\n",
    "#                    callbacks=[PrintDot()])\n",
    "\n",
    "history = modeln1.fit(X_train_norm01, y_train_norm01,epochs=EPOCHS,batch_size=1,\n",
    "          validation_data=[X_test_norm01,y_test_norm01], verbose=0,callbacks=[PrintDot()])\n",
    "\n",
    "[loss, mae] = modeln1.evaluate(X_test_norm01, y_test_norm01, verbose=0)\n",
    "print('loss: ',loss,'\\n mae: ', mae)\n",
    "#modeln1.save('modeln.h5')"
   ]
  },
  {
   "cell_type": "code",
   "execution_count": null,
   "metadata": {},
   "outputs": [],
   "source": []
  },
  {
   "cell_type": "code",
   "execution_count": 12,
   "metadata": {},
   "outputs": [
    {
     "data": {
      "image/png": "[encoded data removed]",
      "text/plain": [
       "<Figure size 432x288 with 1 Axes>"
      ]
     },
     "metadata": {
      "needs_background": "light"
     },
     "output_type": "display_data"
    }
   ],
   "source": [
    "def plot_history(history):\n",
    "    plt.figure()\n",
    "    plt.xlabel('Epoch')\n",
    "    plt.ylabel('Mean Abs Error [1000$]')\n",
    "    plt.plot(history.epoch, np.array(history.history['mean_absolute_error']),\n",
    "           label='Train Loss')\n",
    "    plt.plot(history.epoch, np.array(history.history['val_mean_absolute_error']),\n",
    "           label = 'Val loss')\n",
    "    plt.legend()\n",
    "    plt.ylim([0, 0.1])\n",
    "\n",
    "plot_history(history)"
   ]
  },
  {
   "cell_type": "code",
   "execution_count": 13,
   "metadata": {},
   "outputs": [
    {
     "name": "stdout",
     "output_type": "stream",
     "text": [
      "\n",
      "......................................."
     ]
    },
    {
     "data": {
      "image/png": "[encoded data removed]",
      "text/plain": [
       "<Figure size 432x288 with 1 Axes>"
      ]
     },
     "metadata": {
      "needs_background": "light"
     },
     "output_type": "display_data"
    }
   ],
   "source": [
    "# The patience parameter is the amount of epochs to check for improvement\n",
    "early_stop = tf.keras.callbacks.EarlyStopping(monitor='val_loss', patience=20)\n",
    "history = modeln1.fit(X_train_norm01, y_train_norm01,epochs=EPOCHS,batch_size=1,\n",
    "          validation_data=[X_test_norm01,y_test_norm01], verbose=0,\n",
    "                      callbacks=[early_stop, PrintDot()])\n",
    "\n",
    "plot_history(history)"
   ]
  },
  {
   "cell_type": "code",
   "execution_count": 14,
   "metadata": {},
   "outputs": [
    {
     "name": "stdout",
     "output_type": "stream",
     "text": [
      "0.004945577404783173\n",
      "Testing set Mean Abs Error: $  40.09\n"
     ]
    }
   ],
   "source": [
    "[loss, mae] = modeln1.evaluate(X_test_norm01, y_test_norm01, verbose=0)\n",
    "print(loss)\n",
    "print(\"Testing set Mean Abs Error: ${:7.2f}\".format(mae * 1000))"
   ]
  },
  {
   "cell_type": "code",
   "execution_count": 15,
   "metadata": {},
   "outputs": [
    {
     "data": {
      "image/png": "[encoded data removed]",
      "text/plain": [
       "<Figure size 432x288 with 1 Axes>"
      ]
     },
     "metadata": {
      "needs_background": "light"
     },
     "output_type": "display_data"
    }
   ],
   "source": [
    "#Predicting\n",
    "test_predictions = modeln1.predict(X_test_norm01).flatten()\n",
    "\n",
    "plt.scatter(y_test_norm01, test_predictions)\n",
    "plt.xlabel('True Values [1000$]')\n",
    "plt.ylabel('Predictions [1000$]')\n",
    "plt.axis('equal')\n",
    "plt.xlim(plt.xlim())\n",
    "plt.ylim(plt.ylim())\n",
    "_ = plt.plot([-100, 100], [-100, 100])"
   ]
  },
  {
   "cell_type": "code",
   "execution_count": 16,
   "metadata": {},
   "outputs": [],
   "source": [
    "#test_predictions.shape, y_test_norm01['Rnet'].shape"
   ]
  },
  {
   "cell_type": "code",
   "execution_count": 17,
   "metadata": {
    "scrolled": true
   },
   "outputs": [
    {
     "data": {
      "image/png": "[encoded data removed]",
      "text/plain": [
       "<Figure size 432x288 with 1 Axes>"
      ]
     },
     "metadata": {
      "needs_background": "light"
     },
     "output_type": "display_data"
    }
   ],
   "source": [
    "error = test_predictions - y_test_norm01['Rnet']\n",
    "plt.hist(error, bins = 50)\n",
    "plt.xlabel(\"Prediction Error [1000$]\")\n",
    "_ = plt.ylabel(\"Count\")"
   ]
  },
  {
   "cell_type": "code",
   "execution_count": null,
   "metadata": {},
   "outputs": [],
   "source": []
  },
  {
   "cell_type": "code",
   "execution_count": 18,
   "metadata": {},
   "outputs": [],
   "source": [
    "#!tensorboard --logdir=./Downloads/\n"
   ]
  },
  {
   "cell_type": "code",
   "execution_count": 19,
   "metadata": {},
   "outputs": [],
   "source": [
    "#import os\n",
    "#os.rmdir('result')\n",
    "#os.makedirs('result')\n",
    "#print(os.listdir(os.curdir), os.getcwd()+'/result/')\n",
    "#tensorboard --logdir=os.getcwd()+\"/result/\"\n",
    "#!python -m tensorboard.main"
   ]
  },
  {
   "cell_type": "code",
   "execution_count": null,
   "metadata": {},
   "outputs": [],
   "source": []
  },
  {
   "cell_type": "markdown",
   "metadata": {},
   "source": [
    "\n",
    "\n",
    "## Summary\n",
    "\n",
    "When features in the input data have values in different ranges, each feature should be scaled independently as a preprocessing step.\n",
    "\n",
    "\n",
    "\n",
    "When little training data is available, it's preferable to use a small network with few hidden layers (typically only one or two), in order to avoid overfitting.\n",
    "\n",
    "When input data features have values with different ranges, each feature should be scaled independently.\n",
    "\n",
    "Early stopping is a useful technique to prevent overfitting."
   ]
  },
  {
   "cell_type": "markdown",
   "metadata": {},
   "source": [
    "<!--bibtex\n",
    "@BOOK{HastieTrevor2009TEoS,\n",
    "  series = {Springer Series in Statistics},\n",
    "  publisher = {Springer New York},\n",
    "  isbn = {9780387848570},\n",
    "  year = {2009},\n",
    "  title = {The Elements of Statistical Learning: Data Mining, Inference, and Prediction},\n",
    "  edition = {Second Edition},\n",
    "  language = {eng},\n",
    "  address = {New York, NY},\n",
    "  doi = {10.1007/978-0-387-84858-7},\n",
    "  author = {Hastie, Trevor and Tibshirani, Robert and Friedman, Jerome},\n",
    "  keywords = {Computer Science ; Artificial Intelligence (Incl. Robotics) ; Data Mining and Knowledge Discovery ; Probability Theory     and Stochastic Processes ; Statistical Theory and Methods ; Computational Biology/Bioinformatics ; Computer Appl. in Life Sciences ; Computer Science ; Mathematics},\n",
    "}\n",
    "\n",
    "@BOOK{Masters1993,\n",
    "  author = {Timothy Masters},\n",
    "  title = {Practical Neural Networks Recipes in C++},\n",
    "  year = {1993},\n",
    "  publisher = {Academic Press, Inc.}\n",
    "}\n",
    "\n",
    "-->"
   ]
  },
  {
   "cell_type": "markdown",
   "metadata": {},
   "source": [
    "# References\n",
    "\n",
    "<mark> <b>The bib file ana.bib was not found\n",
    "\n",
    "</b> </mark>(<a id=\"cit-Masters1999\" href=\"#call-Masters1999\">?</a>) !! _This reference was not found in ana.bib _ !!\n",
    "\n"
   ]
  }
 ],
 "metadata": {
  "kernelspec": {
   "display_name": "Python 3",
   "language": "python",
   "name": "python3"
  },
  "language_info": {
   "codemirror_mode": {
    "name": "ipython",
    "version": 3
   },
   "file_extension": ".py",
   "mimetype": "text/x-python",
   "name": "python",
   "nbconvert_exporter": "python",
   "pygments_lexer": "ipython3",
   "version": "3.6.6"
  },
  "latex_envs": {
   "LaTeX_envs_menu_present": true,
   "autoclose": false,
   "autocomplete": true,
   "bibliofile": "ana.bib",
   "cite_by": "apalike",
   "current_citInitial": 1,
   "eqLabelWithNumbers": true,
   "eqNumInitial": 1,
   "hotkeys": {
    "equation": "Ctrl-E",
    "itemize": "Ctrl-I"
   },
   "labels_anchors": false,
   "latex_user_defs": false,
   "report_style_numbering": false,
   "user_envs_cfg": false
  },
  "toc": {
   "base_numbering": 1,
   "nav_menu": {},
   "number_sections": true,
   "sideBar": true,
   "skip_h1_title": false,
   "title_cell": "Table of Contents",
   "title_sidebar": "Contents",
   "toc_cell": false,
   "toc_position": {
    "height": "calc(100% - 180px)",
    "left": "10px",
    "top": "150px",
    "width": "165px"
   },
   "toc_section_display": true,
   "toc_window_display": true
  }
 },
 "nbformat": 4,
 "nbformat_minor": 2
}
